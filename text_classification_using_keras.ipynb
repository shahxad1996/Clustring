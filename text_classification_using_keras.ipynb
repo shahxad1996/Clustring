{
 "cells": [
  {
   "cell_type": "code",
   "execution_count": 1,
   "id": "6c5cdd41",
   "metadata": {},
   "outputs": [],
   "source": [
    "import tensorflow\n",
    "from tensorflow import keras"
   ]
  },
  {
   "cell_type": "code",
   "execution_count": 2,
   "id": "c9a2b759",
   "metadata": {},
   "outputs": [
    {
     "name": "stdout",
     "output_type": "stream",
     "text": [
      "Downloading data from https://storage.googleapis.com/tensorflow/tf-keras-datasets/reuters.npz\n",
      "2110848/2110848 [==============================] - 0s 0us/step\n"
     ]
    }
   ],
   "source": [
    "from tensorflow.keras.datasets import reuters\n",
    "(train_data, train_labels), (test_data, test_labels) = reuters.load_data(\n",
    " num_words=10000)"
   ]
  },
  {
   "cell_type": "code",
   "execution_count": 3,
   "id": "5e2535bd",
   "metadata": {},
   "outputs": [
    {
     "name": "stdout",
     "output_type": "stream",
     "text": [
      "Downloading data from https://storage.googleapis.com/tensorflow/tf-keras-datasets/reuters_word_index.json\n",
      "550378/550378 [==============================] - 0s 0us/step\n"
     ]
    }
   ],
   "source": [
    "word_index = reuters.get_word_index()\n",
    "reverse_word_index = dict(\n",
    " [(value, key) for (key, value) in word_index.items()])\n",
    "decoded_newswire = \" \".join(\n",
    " [reverse_word_index.get(i - 3, \"?\") for i in train_data[0]]) "
   ]
  },
  {
   "cell_type": "code",
   "execution_count": 5,
   "id": "f531e450",
   "metadata": {},
   "outputs": [],
   "source": [
    "import numpy as np\n",
    "def vectorize_sequences(sequences, dimension=10000):\n",
    "    results = np.zeros((len(sequences), dimension))\n",
    "    for i, sequence in enumerate(sequences):\n",
    "        results[i, sequence] = 1.\n",
    "    return results"
   ]
  },
  {
   "cell_type": "code",
   "execution_count": 6,
   "id": "a61a980a",
   "metadata": {},
   "outputs": [],
   "source": [
    "x_train = vectorize_sequences(train_data)\n",
    "x_test = vectorize_sequences(test_data)"
   ]
  },
  {
   "cell_type": "code",
   "execution_count": 7,
   "id": "458ab9ca",
   "metadata": {},
   "outputs": [],
   "source": [
    "def to_one_hot(labels, dimension=46):\n",
    "    results = np.zeros((len(labels), dimension))\n",
    "    for i, label in enumerate(labels):\n",
    "        results[i, label] = 1.\n",
    "    return results"
   ]
  },
  {
   "cell_type": "code",
   "execution_count": 8,
   "id": "56fef7d5",
   "metadata": {},
   "outputs": [],
   "source": [
    "from tensorflow.keras.utils import to_categorical\n",
    "y_train = to_categorical(train_labels)\n",
    "y_test = to_categorical(test_labels)"
   ]
  },
  {
   "cell_type": "code",
   "execution_count": 10,
   "id": "c4e78627",
   "metadata": {},
   "outputs": [],
   "source": [
    "from tensorflow.keras import layers\n",
    "model = keras.Sequential([\n",
    " layers.Dense(64, activation=\"relu\"),\n",
    " layers.Dense(64, activation=\"relu\"),\n",
    " layers.Dense(46, activation=\"softmax\")\n",
    "])"
   ]
  },
  {
   "cell_type": "code",
   "execution_count": 11,
   "id": "2d30733e",
   "metadata": {},
   "outputs": [],
   "source": [
    "model.compile(optimizer=\"rmsprop\",\n",
    " loss=\"categorical_crossentropy\",\n",
    " metrics=[\"accuracy\"])\n"
   ]
  },
  {
   "cell_type": "code",
   "execution_count": 12,
   "id": "e2bdeec0",
   "metadata": {},
   "outputs": [],
   "source": [
    "x_val = x_train[:1000]\n",
    "partial_x_train = x_train[1000:]\n",
    "y_val = y_train[:1000]\n",
    "partial_y_train = y_train[1000:]"
   ]
  },
  {
   "cell_type": "code",
   "execution_count": 13,
   "id": "60ba9400",
   "metadata": {},
   "outputs": [
    {
     "name": "stdout",
     "output_type": "stream",
     "text": [
      "Epoch 1/20\n",
      "16/16 [==============================] - 2s 52ms/step - loss: 2.8900 - accuracy: 0.4935 - val_loss: 1.9783 - val_accuracy: 0.6430\n",
      "Epoch 2/20\n",
      "16/16 [==============================] - 0s 24ms/step - loss: 1.6218 - accuracy: 0.6810 - val_loss: 1.4222 - val_accuracy: 0.6850\n",
      "Epoch 3/20\n",
      "16/16 [==============================] - 0s 27ms/step - loss: 1.2306 - accuracy: 0.7290 - val_loss: 1.2305 - val_accuracy: 0.7210\n",
      "Epoch 4/20\n",
      "16/16 [==============================] - 0s 27ms/step - loss: 1.0111 - accuracy: 0.7745 - val_loss: 1.0945 - val_accuracy: 0.7510\n",
      "Epoch 5/20\n",
      "16/16 [==============================] - 0s 26ms/step - loss: 0.8383 - accuracy: 0.8143 - val_loss: 1.0130 - val_accuracy: 0.7720\n",
      "Epoch 6/20\n",
      "16/16 [==============================] - 0s 24ms/step - loss: 0.7058 - accuracy: 0.8448 - val_loss: 0.9423 - val_accuracy: 0.7910\n",
      "Epoch 7/20\n",
      "16/16 [==============================] - 0s 28ms/step - loss: 0.5930 - accuracy: 0.8708 - val_loss: 0.9131 - val_accuracy: 0.8020\n",
      "Epoch 8/20\n",
      "16/16 [==============================] - 0s 25ms/step - loss: 0.4932 - accuracy: 0.8970 - val_loss: 0.8894 - val_accuracy: 0.8090\n",
      "Epoch 9/20\n",
      "16/16 [==============================] - 0s 27ms/step - loss: 0.4211 - accuracy: 0.9116 - val_loss: 0.8860 - val_accuracy: 0.8000\n",
      "Epoch 10/20\n",
      "16/16 [==============================] - 0s 27ms/step - loss: 0.3563 - accuracy: 0.9253 - val_loss: 0.8572 - val_accuracy: 0.8150\n",
      "Epoch 11/20\n",
      "16/16 [==============================] - 0s 26ms/step - loss: 0.3100 - accuracy: 0.9340 - val_loss: 0.8414 - val_accuracy: 0.8240\n",
      "Epoch 12/20\n",
      "16/16 [==============================] - 0s 23ms/step - loss: 0.2658 - accuracy: 0.9400 - val_loss: 0.8473 - val_accuracy: 0.8240\n",
      "Epoch 13/20\n",
      "16/16 [==============================] - 0s 25ms/step - loss: 0.2381 - accuracy: 0.9459 - val_loss: 0.8734 - val_accuracy: 0.8070\n",
      "Epoch 14/20\n",
      "16/16 [==============================] - 0s 23ms/step - loss: 0.2130 - accuracy: 0.9474 - val_loss: 0.8661 - val_accuracy: 0.8120\n",
      "Epoch 15/20\n",
      "16/16 [==============================] - 0s 23ms/step - loss: 0.1951 - accuracy: 0.9511 - val_loss: 0.8778 - val_accuracy: 0.8230\n",
      "Epoch 16/20\n",
      "16/16 [==============================] - 0s 22ms/step - loss: 0.1772 - accuracy: 0.9524 - val_loss: 0.8622 - val_accuracy: 0.8220\n",
      "Epoch 17/20\n",
      "16/16 [==============================] - 1s 38ms/step - loss: 0.1695 - accuracy: 0.9541 - val_loss: 0.8789 - val_accuracy: 0.8130\n",
      "Epoch 18/20\n",
      "16/16 [==============================] - 0s 28ms/step - loss: 0.1506 - accuracy: 0.9565 - val_loss: 0.9078 - val_accuracy: 0.8150\n",
      "Epoch 19/20\n",
      "16/16 [==============================] - 0s 30ms/step - loss: 0.1439 - accuracy: 0.9558 - val_loss: 0.9087 - val_accuracy: 0.8150\n",
      "Epoch 20/20\n",
      "16/16 [==============================] - 0s 22ms/step - loss: 0.1396 - accuracy: 0.9574 - val_loss: 0.9034 - val_accuracy: 0.8140\n"
     ]
    }
   ],
   "source": [
    "history = model.fit(partial_x_train,\n",
    "partial_y_train,\n",
    "epochs=20,\n",
    "batch_size=512,\n",
    "validation_data=(x_val, y_val))"
   ]
  },
  {
   "cell_type": "code",
   "execution_count": 14,
   "id": "706f46a2",
   "metadata": {},
   "outputs": [
    {
     "data": {
      "image/png": "[encoded data removed]",
      "text/plain": [
       "<Figure size 640x480 with 1 Axes>"
      ]
     },
     "metadata": {},
     "output_type": "display_data"
    }
   ],
   "source": [
    "import matplotlib.pyplot as plt\n",
    "history_dict = history.history\n",
    "loss_values = history_dict[\"loss\"]\n",
    "val_loss_values = history_dict[\"val_loss\"]\n",
    "epochs = range(1, len(loss_values) + 1)\n",
    "plt.plot(epochs, loss_values, \"bo\", label=\"Training loss\")\n",
    "plt.plot(epochs, val_loss_values, \"b\", label=\"Validation loss\")\n",
    "plt.title(\"Training and validation loss\")\n",
    "plt.xlabel(\"Epochs\")\n",
    "plt.ylabel(\"Loss\")\n",
    "plt.legend()\n",
    "plt.show()"
   ]
  },
  {
   "cell_type": "code",
   "execution_count": 15,
   "id": "2e9072a0",
   "metadata": {},
   "outputs": [
    {
     "data": {
      "image/png": "[encoded data removed]",
      "text/plain": [
       "<Figure size 640x480 with 1 Axes>"
      ]
     },
     "metadata": {},
     "output_type": "display_data"
    }
   ],
   "source": [
    "import matplotlib.pyplot as plt\n",
    "history_dict = history.history\n",
    "loss_values = history_dict[\"loss\"]\n",
    "val_loss_values = history_dict[\"val_loss\"]\n",
    "acc=history_dict[\"accuracy\"]\n",
    "val_acc = history_dict[\"val_accuracy\"]\n",
    "epochs = range(1, len(acc) + 1)\n",
    "plt.plot(epochs, acc, \"bo\", label=\"Training Accuracy\")\n",
    "plt.plot(epochs, val_acc, \"b\", label=\"Validation Accuracy\")\n",
    "plt.title(\"Training and validation Accuracy\")\n",
    "plt.xlabel(\"Epochs\")\n",
    "plt.ylabel(\"Loss\")\n",
    "plt.legend()\n",
    "plt.show()"
   ]
  },
  {
   "cell_type": "code",
   "execution_count": 16,
   "id": "f7d8ac42",
   "metadata": {},
   "outputs": [],
   "source": [
    "model = keras.Sequential([\n",
    " layers.Dense(64, activation=\"relu\"),\n",
    " layers.Dense(64, activation=\"relu\"),\n",
    " layers.Dense(46, activation=\"softmax\")\n",
    "])"
   ]
  },
  {
   "cell_type": "code",
   "execution_count": 17,
   "id": "17532ecb",
   "metadata": {},
   "outputs": [],
   "source": [
    "model.compile(optimizer=\"rmsprop\",\n",
    " loss=\"categorical_crossentropy\",\n",
    " metrics=[\"accuracy\"])"
   ]
  },
  {
   "cell_type": "code",
   "execution_count": 18,
   "id": "e37cd9e1",
   "metadata": {},
   "outputs": [
    {
     "name": "stdout",
     "output_type": "stream",
     "text": [
      "Epoch 1/9\n",
      "18/18 [==============================] - 1s 23ms/step - loss: 2.5246 - accuracy: 0.5219\n",
      "Epoch 2/9\n",
      "18/18 [==============================] - 0s 23ms/step - loss: 1.4415 - accuracy: 0.6904\n",
      "Epoch 3/9\n",
      "18/18 [==============================] - 0s 24ms/step - loss: 1.0957 - accuracy: 0.7660\n",
      "Epoch 4/9\n",
      "18/18 [==============================] - 0s 21ms/step - loss: 0.8777 - accuracy: 0.8157\n",
      "Epoch 5/9\n",
      "18/18 [==============================] - 0s 22ms/step - loss: 0.7159 - accuracy: 0.8471\n",
      "Epoch 6/9\n",
      "18/18 [==============================] - 0s 20ms/step - loss: 0.5794 - accuracy: 0.8772\n",
      "Epoch 7/9\n",
      "18/18 [==============================] - 0s 21ms/step - loss: 0.4829 - accuracy: 0.8962\n",
      "Epoch 8/9\n",
      "18/18 [==============================] - 0s 20ms/step - loss: 0.4063 - accuracy: 0.9115\n",
      "Epoch 9/9\n",
      "18/18 [==============================] - 0s 25ms/step - loss: 0.3409 - accuracy: 0.9260\n"
     ]
    },
    {
     "data": {
      "text/plain": [
       "<keras.src.callbacks.History at 0x2730e216750>"
      ]
     },
     "execution_count": 18,
     "metadata": {},
     "output_type": "execute_result"
    }
   ],
   "source": [
    "model.fit(x_train,\n",
    " y_train,\n",
    " epochs=9,\n",
    " batch_size=512)"
   ]
  },
  {
   "cell_type": "code",
   "execution_count": 19,
   "id": "34ba3609",
   "metadata": {},
   "outputs": [
    {
     "name": "stdout",
     "output_type": "stream",
     "text": [
      "71/71 [==============================] - 0s 2ms/step - loss: 0.9030 - accuracy: 0.7890\n"
     ]
    }
   ],
   "source": [
    "results = model.evaluate(x_test, y_test)"
   ]
  },
  {
   "cell_type": "code",
   "execution_count": null,
   "id": "bbb78d2c",
   "metadata": {},
   "outputs": [],
   "source": []
  }
 ],
 "metadata": {
  "kernelspec": {
   "display_name": "Python 3 (ipykernel)",
   "language": "python",
   "name": "python3"
  },
  "language_info": {
   "codemirror_mode": {
    "name": "ipython",
    "version": 3
   },
   "file_extension": ".py",
   "mimetype": "text/x-python",
   "name": "python",
   "nbconvert_exporter": "python",
   "pygments_lexer": "ipython3",
   "version": "3.11.4"
  }
 },
 "nbformat": 4,
 "nbformat_minor": 5
}
